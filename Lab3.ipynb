{
 "cells": [
  {
   "cell_type": "code",
   "execution_count": 2,
   "id": "e182b073-445a-4b44-aeb0-ba315ff372b7",
   "metadata": {},
   "outputs": [
    {
     "name": "stdout",
     "output_type": "stream",
     "text": [
      "Distances to each training sample:\n",
      "    X1  X2     Y  Distance\n",
      "0   7   7   Bad  4.000000\n",
      "1   7   4   Bad  5.000000\n",
      "2   3   4  Good  3.000000\n",
      "3   1   4  Good  3.605551\n",
      "\n",
      "Nearest neighbors:\n",
      "    X1  X2     Y  Distance\n",
      "2   3   4  Good  3.000000\n",
      "3   1   4  Good  3.605551\n",
      "0   7   7   Bad  4.000000\n",
      "\n",
      "Predicted classification for the query instance: Good\n"
     ]
    }
   ],
   "source": [
    "import numpy as np\n",
    "import pandas as pd\n",
    "\n",
    "# Training data\n",
    "data = pd.DataFrame({\n",
    "    'X1': [7, 7, 3, 1],\n",
    "    'X2': [7, 4, 4, 4],\n",
    "    'Y': ['Bad', 'Bad', 'Good', 'Good']\n",
    "})\n",
    "\n",
    "# Query instance\n",
    "query = np.array([3, 7])\n",
    "\n",
    "# Calculate Euclidean distances\n",
    "def euclidean_distance(point1, point2):\n",
    "    return np.sqrt(np.sum((point1 - point2) ** 2))\n",
    "\n",
    "data['Distance'] = data.apply(lambda row: euclidean_distance(query, np.array([row['X1'], row['X2']])), axis=1)\n",
    "\n",
    "# Sort by distance and get the k nearest neighbors (k=3)\n",
    "k = 3\n",
    "nearest_neighbors = data.sort_values(by='Distance').head(k)\n",
    "\n",
    "# Determine the majority class among the nearest neighbors\n",
    "prediction = nearest_neighbors['Y'].mode()[0]\n",
    "\n",
    "# Display results\n",
    "print(\"Distances to each training sample:\\n\", data[['X1', 'X2', 'Y', 'Distance']])\n",
    "print(\"\\nNearest neighbors:\\n\", nearest_neighbors[['X1', 'X2', 'Y', 'Distance']])\n",
    "print(\"\\nPredicted classification for the query instance:\", prediction)\n"
   ]
  },
  {
   "cell_type": "code",
   "execution_count": null,
   "id": "c46ea43d-5355-4cab-af5c-ad117b886430",
   "metadata": {},
   "outputs": [],
   "source": []
  },
  {
   "cell_type": "code",
   "execution_count": null,
   "id": "d6a66d25-8fea-404c-89c5-adcedefe05e7",
   "metadata": {},
   "outputs": [],
   "source": []
  }
 ],
 "metadata": {
  "kernelspec": {
   "display_name": "Python 3 (ipykernel)",
   "language": "python",
   "name": "python3"
  },
  "language_info": {
   "codemirror_mode": {
    "name": "ipython",
    "version": 3
   },
   "file_extension": ".py",
   "mimetype": "text/x-python",
   "name": "python",
   "nbconvert_exporter": "python",
   "pygments_lexer": "ipython3",
   "version": "3.11.7"
  }
 },
 "nbformat": 4,
 "nbformat_minor": 5
}
